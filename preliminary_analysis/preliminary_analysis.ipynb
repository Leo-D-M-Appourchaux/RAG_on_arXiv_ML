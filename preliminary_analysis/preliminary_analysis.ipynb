{
 "cells": [
  {
   "cell_type": "code",
   "execution_count": 2,
   "id": "e596a482",
   "metadata": {},
   "outputs": [
    {
     "name": "stdout",
     "output_type": "stream",
     "text": [
      "Requirement already satisfied: datasets in /Users/shuaizou/Desktop/NLP - Group Assignment/RAG_on_arXiv_ML/nlp_env/lib/python3.13/site-packages (3.6.0)\n",
      "Requirement already satisfied: filelock in /Users/shuaizou/Desktop/NLP - Group Assignment/RAG_on_arXiv_ML/nlp_env/lib/python3.13/site-packages (from datasets) (3.18.0)\n",
      "Requirement already satisfied: numpy>=1.17 in /Users/shuaizou/Desktop/NLP - Group Assignment/RAG_on_arXiv_ML/nlp_env/lib/python3.13/site-packages (from datasets) (2.2.5)\n",
      "Requirement already satisfied: pyarrow>=15.0.0 in /Users/shuaizou/Desktop/NLP - Group Assignment/RAG_on_arXiv_ML/nlp_env/lib/python3.13/site-packages (from datasets) (20.0.0)\n",
      "Requirement already satisfied: dill<0.3.9,>=0.3.0 in /Users/shuaizou/Desktop/NLP - Group Assignment/RAG_on_arXiv_ML/nlp_env/lib/python3.13/site-packages (from datasets) (0.3.8)\n",
      "Requirement already satisfied: pandas in /Users/shuaizou/Desktop/NLP - Group Assignment/RAG_on_arXiv_ML/nlp_env/lib/python3.13/site-packages (from datasets) (2.2.3)\n",
      "Requirement already satisfied: requests>=2.32.2 in /Users/shuaizou/Desktop/NLP - Group Assignment/RAG_on_arXiv_ML/nlp_env/lib/python3.13/site-packages (from datasets) (2.32.3)\n",
      "Requirement already satisfied: tqdm>=4.66.3 in /Users/shuaizou/Desktop/NLP - Group Assignment/RAG_on_arXiv_ML/nlp_env/lib/python3.13/site-packages (from datasets) (4.67.1)\n",
      "Requirement already satisfied: xxhash in /Users/shuaizou/Desktop/NLP - Group Assignment/RAG_on_arXiv_ML/nlp_env/lib/python3.13/site-packages (from datasets) (3.5.0)\n",
      "Requirement already satisfied: multiprocess<0.70.17 in /Users/shuaizou/Desktop/NLP - Group Assignment/RAG_on_arXiv_ML/nlp_env/lib/python3.13/site-packages (from datasets) (0.70.16)\n",
      "Requirement already satisfied: fsspec<=2025.3.0,>=2023.1.0 in /Users/shuaizou/Desktop/NLP - Group Assignment/RAG_on_arXiv_ML/nlp_env/lib/python3.13/site-packages (from fsspec[http]<=2025.3.0,>=2023.1.0->datasets) (2025.3.0)\n",
      "Requirement already satisfied: huggingface-hub>=0.24.0 in /Users/shuaizou/Desktop/NLP - Group Assignment/RAG_on_arXiv_ML/nlp_env/lib/python3.13/site-packages (from datasets) (0.31.2)\n",
      "Requirement already satisfied: packaging in /Users/shuaizou/Desktop/NLP - Group Assignment/RAG_on_arXiv_ML/nlp_env/lib/python3.13/site-packages (from datasets) (25.0)\n",
      "Requirement already satisfied: pyyaml>=5.1 in /Users/shuaizou/Desktop/NLP - Group Assignment/RAG_on_arXiv_ML/nlp_env/lib/python3.13/site-packages (from datasets) (6.0.2)\n",
      "Requirement already satisfied: aiohttp!=4.0.0a0,!=4.0.0a1 in /Users/shuaizou/Desktop/NLP - Group Assignment/RAG_on_arXiv_ML/nlp_env/lib/python3.13/site-packages (from fsspec[http]<=2025.3.0,>=2023.1.0->datasets) (3.11.18)\n",
      "Requirement already satisfied: typing-extensions>=3.7.4.3 in /Users/shuaizou/Desktop/NLP - Group Assignment/RAG_on_arXiv_ML/nlp_env/lib/python3.13/site-packages (from huggingface-hub>=0.24.0->datasets) (4.13.2)\n",
      "Requirement already satisfied: charset-normalizer<4,>=2 in /Users/shuaizou/Desktop/NLP - Group Assignment/RAG_on_arXiv_ML/nlp_env/lib/python3.13/site-packages (from requests>=2.32.2->datasets) (3.4.2)\n",
      "Requirement already satisfied: idna<4,>=2.5 in /Users/shuaizou/Desktop/NLP - Group Assignment/RAG_on_arXiv_ML/nlp_env/lib/python3.13/site-packages (from requests>=2.32.2->datasets) (3.10)\n",
      "Requirement already satisfied: urllib3<3,>=1.21.1 in /Users/shuaizou/Desktop/NLP - Group Assignment/RAG_on_arXiv_ML/nlp_env/lib/python3.13/site-packages (from requests>=2.32.2->datasets) (2.4.0)\n",
      "Requirement already satisfied: certifi>=2017.4.17 in /Users/shuaizou/Desktop/NLP - Group Assignment/RAG_on_arXiv_ML/nlp_env/lib/python3.13/site-packages (from requests>=2.32.2->datasets) (2025.4.26)\n",
      "Requirement already satisfied: python-dateutil>=2.8.2 in /Users/shuaizou/Desktop/NLP - Group Assignment/RAG_on_arXiv_ML/nlp_env/lib/python3.13/site-packages (from pandas->datasets) (2.9.0.post0)\n",
      "Requirement already satisfied: pytz>=2020.1 in /Users/shuaizou/Desktop/NLP - Group Assignment/RAG_on_arXiv_ML/nlp_env/lib/python3.13/site-packages (from pandas->datasets) (2025.2)\n",
      "Requirement already satisfied: tzdata>=2022.7 in /Users/shuaizou/Desktop/NLP - Group Assignment/RAG_on_arXiv_ML/nlp_env/lib/python3.13/site-packages (from pandas->datasets) (2025.2)\n",
      "Requirement already satisfied: aiohappyeyeballs>=2.3.0 in /Users/shuaizou/Desktop/NLP - Group Assignment/RAG_on_arXiv_ML/nlp_env/lib/python3.13/site-packages (from aiohttp!=4.0.0a0,!=4.0.0a1->fsspec[http]<=2025.3.0,>=2023.1.0->datasets) (2.6.1)\n",
      "Requirement already satisfied: aiosignal>=1.1.2 in /Users/shuaizou/Desktop/NLP - Group Assignment/RAG_on_arXiv_ML/nlp_env/lib/python3.13/site-packages (from aiohttp!=4.0.0a0,!=4.0.0a1->fsspec[http]<=2025.3.0,>=2023.1.0->datasets) (1.3.2)\n",
      "Requirement already satisfied: attrs>=17.3.0 in /Users/shuaizou/Desktop/NLP - Group Assignment/RAG_on_arXiv_ML/nlp_env/lib/python3.13/site-packages (from aiohttp!=4.0.0a0,!=4.0.0a1->fsspec[http]<=2025.3.0,>=2023.1.0->datasets) (25.3.0)\n",
      "Requirement already satisfied: frozenlist>=1.1.1 in /Users/shuaizou/Desktop/NLP - Group Assignment/RAG_on_arXiv_ML/nlp_env/lib/python3.13/site-packages (from aiohttp!=4.0.0a0,!=4.0.0a1->fsspec[http]<=2025.3.0,>=2023.1.0->datasets) (1.6.0)\n",
      "Requirement already satisfied: multidict<7.0,>=4.5 in /Users/shuaizou/Desktop/NLP - Group Assignment/RAG_on_arXiv_ML/nlp_env/lib/python3.13/site-packages (from aiohttp!=4.0.0a0,!=4.0.0a1->fsspec[http]<=2025.3.0,>=2023.1.0->datasets) (6.4.3)\n",
      "Requirement already satisfied: propcache>=0.2.0 in /Users/shuaizou/Desktop/NLP - Group Assignment/RAG_on_arXiv_ML/nlp_env/lib/python3.13/site-packages (from aiohttp!=4.0.0a0,!=4.0.0a1->fsspec[http]<=2025.3.0,>=2023.1.0->datasets) (0.3.1)\n",
      "Requirement already satisfied: yarl<2.0,>=1.17.0 in /Users/shuaizou/Desktop/NLP - Group Assignment/RAG_on_arXiv_ML/nlp_env/lib/python3.13/site-packages (from aiohttp!=4.0.0a0,!=4.0.0a1->fsspec[http]<=2025.3.0,>=2023.1.0->datasets) (1.20.0)\n",
      "Requirement already satisfied: six>=1.5 in /Users/shuaizou/Desktop/NLP - Group Assignment/RAG_on_arXiv_ML/nlp_env/lib/python3.13/site-packages (from python-dateutil>=2.8.2->pandas->datasets) (1.17.0)\n",
      "\n",
      "\u001b[1m[\u001b[0m\u001b[34;49mnotice\u001b[0m\u001b[1;39;49m]\u001b[0m\u001b[39;49m A new release of pip is available: \u001b[0m\u001b[31;49m24.3.1\u001b[0m\u001b[39;49m -> \u001b[0m\u001b[32;49m25.1.1\u001b[0m\n",
      "\u001b[1m[\u001b[0m\u001b[34;49mnotice\u001b[0m\u001b[1;39;49m]\u001b[0m\u001b[39;49m To update, run: \u001b[0m\u001b[32;49mpip install --upgrade pip\u001b[0m\n"
     ]
    }
   ],
   "source": [
    "!pip3 install datasets"
   ]
  },
  {
   "cell_type": "markdown",
   "id": "12b10509",
   "metadata": {},
   "source": [
    "1. 加载数据集"
   ]
  },
  {
   "cell_type": "code",
   "execution_count": 3,
   "id": "db8d8f20",
   "metadata": {},
   "outputs": [
    {
     "name": "stderr",
     "output_type": "stream",
     "text": [
      "/Users/shuaizou/Desktop/NLP - Group Assignment/RAG_on_arXiv_ML/nlp_env/lib/python3.13/site-packages/tqdm/auto.py:21: TqdmWarning: IProgress not found. Please update jupyter and ipywidgets. See https://ipywidgets.readthedocs.io/en/stable/user_install.html\n",
      "  from .autonotebook import tqdm as notebook_tqdm\n"
     ]
    }
   ],
   "source": [
    "from datasets import load_dataset\n",
    "dataset = load_dataset(\"staghado/ArXiv-tables\")[\"train\"]"
   ]
  },
  {
   "cell_type": "markdown",
   "id": "73bcd9ea",
   "metadata": {},
   "source": [
    "2. 查看结构和字段"
   ]
  },
  {
   "cell_type": "code",
   "execution_count": 4,
   "id": "bc5d9a3b",
   "metadata": {},
   "outputs": [
    {
     "name": "stdout",
     "output_type": "stream",
     "text": [
      "dict_keys(['id', 'arxiv_id', 'page', 'bounding_box', 'latex_content', 'extracted_content', 'similarity_score', 'table_image', 'page_image'])\n"
     ]
    }
   ],
   "source": [
    "print(dataset[0].keys())"
   ]
  },
  {
   "cell_type": "markdown",
   "id": "ab2648b9",
   "metadata": {},
   "source": [
    "3. 数据集大小 & 文档数量"
   ]
  },
  {
   "cell_type": "code",
   "execution_count": 5,
   "id": "392004ba",
   "metadata": {},
   "outputs": [
    {
     "name": "stdout",
     "output_type": "stream",
     "text": [
      "样本总数： 1328\n"
     ]
    }
   ],
   "source": [
    "print(\"样本总数：\", len(dataset))"
   ]
  },
  {
   "cell_type": "markdown",
   "id": "4fa6bb78",
   "metadata": {},
   "source": [
    "4. 分析字段内容（文档内容、长度分布）"
   ]
  },
  {
   "cell_type": "code",
   "execution_count": 8,
   "id": "ae8eed9a",
   "metadata": {},
   "outputs": [
    {
     "name": "stdout",
     "output_type": "stream",
     "text": [
      "Collecting matplotlib\n",
      "  Downloading matplotlib-3.10.3-cp313-cp313-macosx_11_0_arm64.whl.metadata (11 kB)\n",
      "Collecting contourpy>=1.0.1 (from matplotlib)\n",
      "  Downloading contourpy-1.3.2-cp313-cp313-macosx_11_0_arm64.whl.metadata (5.5 kB)\n",
      "Collecting cycler>=0.10 (from matplotlib)\n",
      "  Downloading cycler-0.12.1-py3-none-any.whl.metadata (3.8 kB)\n",
      "Collecting fonttools>=4.22.0 (from matplotlib)\n",
      "  Downloading fonttools-4.58.0-cp313-cp313-macosx_10_13_universal2.whl.metadata (104 kB)\n",
      "Collecting kiwisolver>=1.3.1 (from matplotlib)\n",
      "  Downloading kiwisolver-1.4.8-cp313-cp313-macosx_11_0_arm64.whl.metadata (6.2 kB)\n",
      "Requirement already satisfied: numpy>=1.23 in /Users/shuaizou/Desktop/NLP - Group Assignment/RAG_on_arXiv_ML/nlp_env/lib/python3.13/site-packages (from matplotlib) (2.2.5)\n",
      "Requirement already satisfied: packaging>=20.0 in /Users/shuaizou/Desktop/NLP - Group Assignment/RAG_on_arXiv_ML/nlp_env/lib/python3.13/site-packages (from matplotlib) (25.0)\n",
      "Requirement already satisfied: pillow>=8 in /Users/shuaizou/Desktop/NLP - Group Assignment/RAG_on_arXiv_ML/nlp_env/lib/python3.13/site-packages (from matplotlib) (11.2.1)\n",
      "Collecting pyparsing>=2.3.1 (from matplotlib)\n",
      "  Downloading pyparsing-3.2.3-py3-none-any.whl.metadata (5.0 kB)\n",
      "Requirement already satisfied: python-dateutil>=2.7 in /Users/shuaizou/Desktop/NLP - Group Assignment/RAG_on_arXiv_ML/nlp_env/lib/python3.13/site-packages (from matplotlib) (2.9.0.post0)\n",
      "Requirement already satisfied: six>=1.5 in /Users/shuaizou/Desktop/NLP - Group Assignment/RAG_on_arXiv_ML/nlp_env/lib/python3.13/site-packages (from python-dateutil>=2.7->matplotlib) (1.17.0)\n",
      "Downloading matplotlib-3.10.3-cp313-cp313-macosx_11_0_arm64.whl (8.1 MB)\n",
      "\u001b[2K   \u001b[90m━━━━━━━━━━━━━━━━━━━━━━━━━━━━━━━━━━━━━━━━\u001b[0m \u001b[32m8.1/8.1 MB\u001b[0m \u001b[31m4.3 MB/s\u001b[0m eta \u001b[36m0:00:00\u001b[0m00:01\u001b[0m00:01\u001b[0m\n",
      "\u001b[?25hDownloading contourpy-1.3.2-cp313-cp313-macosx_11_0_arm64.whl (255 kB)\n",
      "Downloading cycler-0.12.1-py3-none-any.whl (8.3 kB)\n",
      "Downloading fonttools-4.58.0-cp313-cp313-macosx_10_13_universal2.whl (2.7 MB)\n",
      "\u001b[2K   \u001b[90m━━━━━━━━━━━━━━━━━━━━━━━━━━━━━━━━━━━━━━━━\u001b[0m \u001b[32m2.7/2.7 MB\u001b[0m \u001b[31m3.4 MB/s\u001b[0m eta \u001b[36m0:00:00\u001b[0ma \u001b[36m0:00:01\u001b[0m\n",
      "\u001b[?25hDownloading kiwisolver-1.4.8-cp313-cp313-macosx_11_0_arm64.whl (65 kB)\n",
      "Downloading pyparsing-3.2.3-py3-none-any.whl (111 kB)\n",
      "Installing collected packages: pyparsing, kiwisolver, fonttools, cycler, contourpy, matplotlib\n",
      "Successfully installed contourpy-1.3.2 cycler-0.12.1 fonttools-4.58.0 kiwisolver-1.4.8 matplotlib-3.10.3 pyparsing-3.2.3\n",
      "\n",
      "\u001b[1m[\u001b[0m\u001b[34;49mnotice\u001b[0m\u001b[1;39;49m]\u001b[0m\u001b[39;49m A new release of pip is available: \u001b[0m\u001b[31;49m24.3.1\u001b[0m\u001b[39;49m -> \u001b[0m\u001b[32;49m25.1.1\u001b[0m\n",
      "\u001b[1m[\u001b[0m\u001b[34;49mnotice\u001b[0m\u001b[1;39;49m]\u001b[0m\u001b[39;49m To update, run: \u001b[0m\u001b[32;49mpip install --upgrade pip\u001b[0m\n"
     ]
    }
   ],
   "source": [
    "!pip3 install matplotlib"
   ]
  },
  {
   "cell_type": "code",
   "execution_count": 9,
   "id": "48d2ae4a",
   "metadata": {},
   "outputs": [
    {
     "name": "stderr",
     "output_type": "stream",
     "text": [
      "Matplotlib is building the font cache; this may take a moment.\n"
     ]
    },
    {
     "data": {
      "text/plain": [
       "<Axes: title={'center': 'Length Distribution of LaTeX content'}, ylabel='Frequency'>"
      ]
     },
     "execution_count": 9,
     "metadata": {},
     "output_type": "execute_result"
    },
    {
     "data": {
      "image/png": "[encoded data removed]",
      "text/plain": [
       "<Figure size 640x480 with 1 Axes>"
      ]
     },
     "metadata": {},
     "output_type": "display_data"
    }
   ],
   "source": [
    "import pandas as pd\n",
    "lengths = [len(str(x[\"latex_content\"])) for x in dataset]\n",
    "df = pd.DataFrame({\"length\": lengths})\n",
    "df[\"length\"].plot.hist(bins=30, title=\"Length Distribution of LaTeX content\")"
   ]
  },
  {
   "cell_type": "markdown",
   "id": "382bd33b",
   "metadata": {},
   "source": [
    "5. 统计词汇表大小（粗略）"
   ]
  },
  {
   "cell_type": "code",
   "execution_count": 10,
   "id": "7565ec66",
   "metadata": {},
   "outputs": [
    {
     "name": "stdout",
     "output_type": "stream",
     "text": [
      "粗略词汇量： 7517\n"
     ]
    }
   ],
   "source": [
    "from collections import Counter\n",
    "import re\n",
    "\n",
    "vocab = Counter()\n",
    "for entry in dataset.select(range(500)):  # 采样 500 个表\n",
    "    words = re.findall(r'\\\\?[a-zA-Z_]+', entry[\"latex_content\"])\n",
    "    vocab.update(words)\n",
    "\n",
    "print(\"粗略词汇量：\", len(vocab))"
   ]
  }
 ],
 "metadata": {
  "kernelspec": {
   "display_name": "nlp_env",
   "language": "python",
   "name": "python3"
  },
  "language_info": {
   "codemirror_mode": {
    "name": "ipython",
    "version": 3
   },
   "file_extension": ".py",
   "mimetype": "text/x-python",
   "name": "python",
   "nbconvert_exporter": "python",
   "pygments_lexer": "ipython3",
   "version": "3.13.1"
  }
 },
 "nbformat": 4,
 "nbformat_minor": 5
}
