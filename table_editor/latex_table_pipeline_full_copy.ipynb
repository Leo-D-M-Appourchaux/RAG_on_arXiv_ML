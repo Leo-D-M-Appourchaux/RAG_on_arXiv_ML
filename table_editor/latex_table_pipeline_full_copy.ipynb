{
 "cells": [
  {
   "cell_type": "markdown",
   "id": "db77fc9e",
   "metadata": {},
   "source": [
    "# Play with LaTex Content "
   ]
  },
  {
   "cell_type": "code",
   "execution_count": null,
   "id": "c7bc120e",
   "metadata": {},
   "outputs": [],
   "source": [
    "import re, os, shutil, datetime\n",
    "from datasets import load_dataset\n",
    "from pylatex import Document, NoEscape\n",
    "from pdf2image import convert_from_path\n",
    "from IPython.display import Image, display\n",
    "\n",
    "\n"
   ]
  },
  {
   "cell_type": "markdown",
   "id": "23c5b6f9",
   "metadata": {},
   "source": [
    "## Preliminary Analysis\n",
    "\n",
    "Provides an initial exploration of the [staghado/ArXiv-tables](https://huggingface.co/datasets/staghado/ArXiv-tables) dataset from Hugging Face.<br>The goal is to understand the structure, content length distribution, and vocabulary characteristics of LaTeX-formatted tables extracted from arXiv papers."
   ]
  },
  {
   "cell_type": "markdown",
   "id": "ea58d81c",
   "metadata": {},
   "source": [
    "###  Load Dataset\n",
    "\n",
    "This loads the \"train\" split of the dataset."
   ]
  },
  {
   "cell_type": "code",
   "execution_count": 3,
   "id": "05d11404",
   "metadata": {},
   "outputs": [],
   "source": [
    "dataset = load_dataset(\"staghado/ArXiv-tables\")\n",
    "dataset = dataset[\"train\"]\n",
    "\n"
   ]
  },
  {
   "cell_type": "markdown",
   "id": "1779a101",
   "metadata": {},
   "source": [
    "### Look at the structure and fields\n",
    "\n",
    "This prints the keys (field names) of a single sample entry.<br>Example fields include: id, arxiv_id, page, bounding_box, latex_content, extracted_content, similarity_score, table_image, page_image."
   ]
  },
  {
   "cell_type": "code",
   "execution_count": null,
   "id": "cb6ec6fe",
   "metadata": {},
   "outputs": [],
   "source": [
    "print(dataset.column_names)"
   ]
  },
  {
   "cell_type": "markdown",
   "id": "48f49220",
   "metadata": {},
   "source": [
    "### Dataset Size & Number of documents\n",
    "\n",
    "Displays the total number of entries in the dataset.<br>In this case, it confirms the dataset has 1328 table entries."
   ]
  },
  {
   "cell_type": "code",
   "execution_count": null,
   "id": "3422f053",
   "metadata": {},
   "outputs": [],
   "source": [
    "print(\"Total number of samples：\", len(dataset))"
   ]
  },
  {
   "cell_type": "markdown",
   "id": "80598eb7",
   "metadata": {},
   "source": [
    "### Analyze field contents (document content, length distribution)\n",
    "\n",
    "Converts the LaTeX content into strings and measures their character length.<br>Stores the lengths in a pandas DataFrame.<br>Uses .plot.hist() to draw a histogram with 30 bins to visualize how LaTeX lengths are distributed.<br>Most LaTeX contents are short; a few outliers are very long."
   ]
  },
  {
   "cell_type": "code",
   "execution_count": null,
   "id": "c61c13e4",
   "metadata": {},
   "outputs": [],
   "source": [
    "!pip3 install matplotlib"
   ]
  },
  {
   "cell_type": "code",
   "execution_count": null,
   "id": "be1d9230",
   "metadata": {},
   "outputs": [],
   "source": [
    "import pandas as pd\n",
    "lengths = [len(str(x[\"latex_content\"])) for x in dataset]\n",
    "df = pd.DataFrame({\"length\": lengths})\n",
    "df[\"length\"].plot.hist(bins=30, title=\"Length Distribution of LaTeX content\")"
   ]
  },
  {
   "cell_type": "markdown",
   "id": "3fb60dcc",
   "metadata": {},
   "source": [
    "### Estimate Approximate Vocabulary Size\n",
    "\n",
    "Samples the first 500 entries for faster processing.<br>Uses a regular expression \\\\?[a-zA-Z_]+ to extract “words” from LaTeX: It matches both LaTeX commands (e.g., \\hline) and normal words (e.g., score, _avg).<br>Counter is used to keep track of how many times each word appears.<br>Finally, len(vocab) gives the total number of unique tokens (estimated vocabulary size).<br>Result: approx. 7517 unique words."
   ]
  },
  {
   "cell_type": "code",
   "execution_count": null,
   "id": "21a401b4",
   "metadata": {},
   "outputs": [],
   "source": [
    "from collections import Counter\n",
    "import re\n",
    "\n",
    "vocab = Counter()\n",
    "for entry in dataset.select(range(500)):  # sample 500 entries\n",
    "    words = re.findall(r'\\\\?[a-zA-Z_]+', entry[\"latex_content\"])\n",
    "    vocab.update(words)\n",
    "\n",
    "print(\"Estimated vocabulary size：\", len(vocab))"
   ]
  },
  {
   "cell_type": "markdown",
   "id": "c200c41b",
   "metadata": {},
   "source": [
    "### Summary\n",
    "\n",
    "Loaded 1328 LaTeX-formatted table entries.<br>Visualized content length distribution using a histogram.<br>Extracted and counted unique words from LaTeX to estimate vocabulary size.<br>These steps provide useful statistics for further tasks like table understanding, structure extraction, and embedding training."
   ]
  },
  {
   "cell_type": "markdown",
   "id": "8a56a8ba",
   "metadata": {},
   "source": [
    "## Table Modification"
   ]
  },
  {
   "cell_type": "markdown",
   "id": "be77fcbe",
   "metadata": {},
   "source": [
    "## Table data modification "
   ]
  },
  {
   "cell_type": "code",
   "execution_count": 8,
   "id": "dcaba194",
   "metadata": {},
   "outputs": [],
   "source": [
    "def modify_numeric_values(latex_str, old_val, new_val):\n",
    "    return latex_str.replace(old_val, new_val)"
   ]
  },
  {
   "cell_type": "markdown",
   "id": "7eac8ef1",
   "metadata": {},
   "source": [
    "## Table structure modification"
   ]
  },
  {
   "cell_type": "code",
   "execution_count": 9,
   "id": "216561a1",
   "metadata": {},
   "outputs": [],
   "source": [
    "def modify_column_spec(latex_line, default_addition=\"p{3cm}|\", conditional_target=\"c|\", conditional_addition=\"|c\"):\n",
    "    brace_count = 0\n",
    "    first_done = False\n",
    "    start_idx = None\n",
    "    end_idx = None\n",
    "\n",
    "    for i, char in enumerate(latex_line):\n",
    "        if char == '{':\n",
    "            brace_count += 1\n",
    "            if brace_count == 1 and not first_done:\n",
    "                first_done = True\n",
    "            elif brace_count == 1 and first_done and start_idx is None:\n",
    "                start_idx = i + 1  # content starts after this\n",
    "        elif char == '}':\n",
    "            if brace_count == 1 and start_idx is not None and end_idx is None:\n",
    "                end_idx = i  # content ends before this\n",
    "                break\n",
    "            brace_count -= 1\n",
    "\n",
    "    if start_idx is not None and end_idx is not None:\n",
    "        # Get original column spec\n",
    "        colspec = latex_line[start_idx:end_idx]\n",
    "        if conditional_target in colspec:\n",
    "            addition = conditional_addition\n",
    "        else:\n",
    "            addition = default_addition\n",
    "        new_colspec = colspec + addition\n",
    "        return latex_line[:start_idx] + new_colspec + latex_line[end_idx:]\n",
    "    else:\n",
    "        return latex_line  # unchanged if not found\n",
    "\n",
    "\n",
    "def add_column_to_outermost_tabular(latex_str, new_cell_value=\" NEW \",default_number=0):\n",
    "    lines = latex_str.splitlines()\n",
    "    new_lines = []\n",
    "    nest = 0\n",
    "    inside_outer_tabular = False\n",
    "\n",
    "    for line in lines:\n",
    "        stripped = line.strip()\n",
    "\n",
    "        match = re.match(r'(\\\\begin\\{tabular\\})\\{([^}]*)\\}', stripped)\n",
    "        if match:\n",
    "            nest += 1\n",
    "            if nest == 1:\n",
    "                inside_outer_tabular = True\n",
    "                original_start, colspec = match.groups()\n",
    "                line = modify_column_spec(line)\n",
    "\n",
    "        elif r'\\end{tabular}' in stripped:\n",
    "            if nest == 1:\n",
    "                inside_outer_tabular = False\n",
    "            nest -= 1\n",
    "       \n",
    "\n",
    "        # Modify only inside the outermost tabular\n",
    "        if inside_outer_tabular:\n",
    "            # Patch multicolumn if found\n",
    "            if r'\\multicolumn{' in line:\n",
    "                line = re.sub(r'\\\\multicolumn\\{(\\d+)\\}', lambda m: f'\\\\multicolumn{{{int(m.group(1)) + 1}}}', line)\n",
    "            \n",
    "            if r'\\cline{' in line:\n",
    "                line = re.sub(r'\\\\cline\\{(\\d+)-(\\d+)\\}', lambda m: fr'\\cline{{{m.group(1)}-{int(m.group(2))+1}}}', line)\n",
    "\n",
    "            # Add a new cell to data rows\n",
    "            if '&' in line and r'\\\\' in line:\n",
    "                parts = line.split('&')\n",
    "                parts.insert(-1, new_cell_value+str(default_number))\n",
    "                default_number += 1\n",
    "                line = ' & '.join(parts)\n",
    "\n",
    "        new_lines.append(line)\n",
    "\n",
    "    return '\\n'.join(new_lines)"
   ]
  },
  {
   "cell_type": "markdown",
   "id": "e1269505",
   "metadata": {},
   "source": [
    "##  Rendering Function"
   ]
  },
  {
   "cell_type": "code",
   "execution_count": 10,
   "id": "7466fb5b",
   "metadata": {},
   "outputs": [],
   "source": [
    "def save_latex_as_image(latex_str, outname=\"outputs/output\"):\n",
    "    os.makedirs(\"outputs\", exist_ok=True)\n",
    "    print(\"开始渲染：\", outname)\n",
    "\n",
    "    doc = Document()\n",
    "    doc.packages.add(NoEscape(r'\\usepackage{float}'))\n",
    "    doc.packages.add(NoEscape(r'\\usepackage{booktabs}'))\n",
    "    doc.packages.add(NoEscape(r'\\usepackage{graphicx}'))\n",
    "    doc.packages.add(NoEscape(r'\\usepackage{multirow}'))\n",
    "    doc.packages.add(NoEscape(r'\\usepackage{makecell}'))\n",
    "    doc.packages.add(NoEscape(r'\\usepackage{cite}'))\n",
    "    doc.packages.add(NoEscape(r'\\usepackage{threeparttable}'))\n",
    "    doc.packages.add(NoEscape(r'\\usepackage{xcolor}'))\n",
    "    doc.packages.add(NoEscape(r'\\usepackage{amssymb}'))\n",
    "    doc.packages.add(NoEscape(r'\\usepackage{hyperref}'))\n",
    "    doc.packages.add(NoEscape(r'\\usepackage{textcomp}'))\n",
    "    doc.preamble.append(NoEscape(r'\\newcommand{\\specialcell}[2][c]{\\begin{tabular}[#1]{@{}c@{}}#2\\end{tabular}}'))\n",
    "\n",
    "    if \"\\\\begin{tabular\" in latex_str and \"\\\\end{tabular}\" not in latex_str:\n",
    "        latex_str += \"\\n\\\\end{tabular}\"\n",
    "    if \"\\\\begin{table\" in latex_str and \"\\\\end{table}\" not in latex_str:\n",
    "        latex_str += \"\\n\\\\end{table}\"\n",
    "    if \"\\\\begin{threeparttable}\" in latex_str and \"\\\\end{threeparttable}\" not in latex_str:\n",
    "        latex_str += \"\\n\\\\end{threeparttable}\"\n",
    "\n",
    "    doc.append(NoEscape(latex_str))\n",
    "    doc.generate_pdf(outname, clean_tex=True)\n",
    "\n",
    "    poppler_path = shutil.which(\"pdftoppm\")\n",
    "    images = convert_from_path(\n",
    "        f\"{outname}.pdf\",\n",
    "        poppler_path=os.path.dirname(poppler_path) if poppler_path else None\n",
    "    )\n",
    "    print(\"图像数量：\", len(images) if images else 0)\n",
    "    images[0].save(f\"{outname}.png\", \"PNG\")\n",
    "    print(\"PNG 是否生成：\", os.path.exists(f\"{outname}.png\"))"
   ]
  },
  {
   "cell_type": "markdown",
   "id": "5ba06728",
   "metadata": {},
   "source": [
    "##  Batch Rendering"
   ]
  },
  {
   "cell_type": "code",
   "execution_count": 11,
   "id": "59a1f271",
   "metadata": {},
   "outputs": [],
   "source": [
    "def batch_render_tables(dataset, start=0, end=10):\n",
    "    for i in range(start, end):\n",
    "        latex_str = dataset[i][\"latex_content\"]\n",
    "        if \"\\\\begin{tabular}\" in latex_str and \"\\\\end{tabular}\" in latex_str and            \"\\\\begin{table}\" in latex_str and \"\\\\end{table}\" in latex_str:\n",
    "            print(f\"第 {i} 条是表格，开始渲染图像...\")\n",
    "            try:\n",
    "                save_latex_as_image(latex_str, outname=f\"outputs/real_table_{i}\")\n",
    "            except Exception as e:\n",
    "                print(f\"第 {i} 条渲染失败：{e}\")\n",
    "                with open(f\"outputs/real_table_{i}_error.tex\", \"w\") as f:\n",
    "                    f.write(latex_str)\n",
    "                print(f\"已保存失败的 LaTeX 源码为 outputs/real_table_{i}_error.tex\")\n",
    "        else:\n",
    "            print(f\"第 {i} 条表格结构不完整，跳过\")"
   ]
  },
  {
   "cell_type": "markdown",
   "id": "21c3e103",
   "metadata": {},
   "source": [
    "## Execute"
   ]
  },
  {
   "cell_type": "code",
   "execution_count": null,
   "id": "a45c154b",
   "metadata": {},
   "outputs": [],
   "source": [
    "batch_render_tables(dataset, start=0, end=10)\n",
    "print(\"图像生成完毕\")"
   ]
  },
  {
   "cell_type": "markdown",
   "id": "449550f3",
   "metadata": {},
   "source": [
    "### Test Case: Modify Table and Render"
   ]
  },
  {
   "cell_type": "code",
   "execution_count": null,
   "id": "000eb786",
   "metadata": {},
   "outputs": [],
   "source": [
    "\n",
    "# Load dataset\n",
    "dataset = load_dataset(\"staghado/ArXiv-tables\")[\"train\"]\n",
    "os.makedirs(\"outputs\", exist_ok=True)\n",
    "# 批量渲染前3张\n",
    "batch_render_tables(dataset, start=0, end=3) \n",
    "\n",
    "for i in range(len(dataset)):\n",
    "    latex = dataset[i][\"latex_content\"]\n",
    "    if \"\\\\begin{tabular}\" not in latex: \n",
    "        continue\n",
    "\n",
    "    timestamp = datetime.datetime.now().strftime(\"%Y%m%d_%H%M%S\")\n",
    "    name_base = f\"outputs/sample_{i}_{timestamp}\"\n",
    "\n",
    "    try:\n",
    "        # Render and display original image\n",
    "        save_latex_as_image(latex, outname=f\"{name_base}_original\")\n",
    "        display(Image(filename=f\"{name_base}_original.png\"))\n",
    "    except Exception as e:\n",
    "        print(f\"Table {i+1} failed to render. Skipping. Reason: {e}\")\n",
    "        continue\n",
    "\n",
    "    # Ask if the user wants to modify the table\n",
    "    should_modify = input(f\"Do you want to modify table {i+1}? (Y/N): \").strip().upper()\n",
    "    if should_modify != \"Y\":\n",
    "        continue\n",
    "\n",
    "    # Ask how many values to modify\n",
    "    try:\n",
    "        n_changes = int(input(\"How many values would you like to modify?: \").strip())\n",
    "    except ValueError:\n",
    "        print(\"Invalid number. Skipping this table.\")\n",
    "        continue\n",
    "\n",
    "    modified_latex = latex\n",
    "    for j in range(n_changes):\n",
    "        old_val = input(f\"Original value #{j+1}: \").strip()\n",
    "        new_val = input(f\"New value #{j+1}: \").strip()\n",
    "        modified_latex = modify_numeric_values(modified_latex, old_val, new_val)\n",
    "\n",
    "    try:\n",
    "        # Render and display modified image\n",
    "        save_latex_as_image(modified_latex, outname=f\"{name_base}_modified\")\n",
    "        display(Image(filename=f\"{name_base}_modified.png\"))\n",
    "        print(\"Modification complete. Image saved.\\n\")\n",
    "    except Exception as e:\n",
    "        print(f\"Failed to render modified table: {e}\")"
   ]
  },
  {
   "cell_type": "markdown",
   "id": "c0be73df",
   "metadata": {},
   "source": [
    "function that adds a new column"
   ]
  },
  {
   "cell_type": "markdown",
   "id": "a5955a13",
   "metadata": {},
   "source": [
    "## Step 1: Modify Column Specification\n",
    "\n",
    "This function parses the LaTeX column spec (like `|c|c|c|`) and determines where to insert a new column format.\n",
    "\n",
    "It handles different insertion conditions:\n",
    "- If a specific target column format is found, it inserts a custom addition.\n",
    "- Otherwise, it uses a default column format like `p{3cm}|`.\n",
    "\n",
    "This ensures compatibility with a variety of existing table structures."
   ]
  },
  {
   "cell_type": "code",
   "execution_count": 1,
   "id": "e9469e45",
   "metadata": {},
   "outputs": [],
   "source": [
    "def modify_column_spec(latex_line, default_addition=\"p{3cm}|\", conditional_target=\"c|\", conditional_addition=\"|c\"):\n",
    "    brace_count = 0\n",
    "    first_done = False\n",
    "    start_idx = None\n",
    "    end_idx = None\n",
    "\n",
    "    for i, char in enumerate(latex_line):\n",
    "        if char == '{':\n",
    "            brace_count += 1\n",
    "            if brace_count == 1 and not first_done:\n",
    "                first_done = True\n",
    "            elif brace_count == 1 and first_done and start_idx is None:\n",
    "                start_idx = i + 1  # content starts after this\n",
    "        elif char == '}':\n",
    "            if brace_count == 1 and start_idx is not None and end_idx is None:\n",
    "                end_idx = i  # content ends before this\n",
    "                break\n",
    "            brace_count -= 1\n",
    "\n",
    "    if start_idx is not None and end_idx is not None:\n",
    "        # Get original column spec\n",
    "        colspec = latex_line[start_idx:end_idx]\n",
    "        if conditional_target in colspec:\n",
    "            addition = conditional_addition\n",
    "        else:\n",
    "            addition = default_addition\n",
    "        new_colspec = colspec + addition\n",
    "        return latex_line[:start_idx] + new_colspec + latex_line[end_idx:]\n",
    "    else:\n",
    "        return latex_line  # unchanged if not found"
   ]
  },
  {
   "cell_type": "markdown",
   "id": "f25f1d8c",
   "metadata": {},
   "source": [
    "## Step 2: Apply to LaTeX Table Dataset\n",
    "\n",
    "We load a sample dataset containing LaTeX tables using Hugging Face Datasets.\n",
    "\n",
    "For demonstration, we:\n",
    "- Load the first few LaTeX entries.\n",
    "- Modify each one using `add_column_to_outermost_tabular`.\n",
    "- Print a side-by-side comparison of the original and modified tables."
   ]
  },
  {
   "cell_type": "code",
   "execution_count": 3,
   "id": "d4331a30",
   "metadata": {},
   "outputs": [],
   "source": [
    "def add_column_to_outermost_tabular(latex_str, new_cell_value=\" NEW \",default_number=0):\n",
    "    lines = latex_str.splitlines()\n",
    "    new_lines = []\n",
    "    nest = 0\n",
    "    inside_outer_tabular = False\n",
    "\n",
    "    for line in lines:\n",
    "        stripped = line.strip()\n",
    "\n",
    "        match = re.match(r'(\\\\begin\\{tabular\\})\\{([^}]*)\\}', stripped)\n",
    "        if match:\n",
    "            nest += 1\n",
    "            if nest == 1:\n",
    "                inside_outer_tabular = True\n",
    "                original_start, colspec = match.groups()\n",
    "                line = modify_column_spec(line)\n",
    "\n",
    "        elif r'\\end{tabular}' in stripped:\n",
    "            if nest == 1:\n",
    "                inside_outer_tabular = False\n",
    "            nest -= 1\n",
    "       \n",
    "\n",
    "        # Modify only inside the outermost tabular\n",
    "        if inside_outer_tabular:\n",
    "            # Patch multicolumn if found\n",
    "            if r'\\multicolumn{' in line:\n",
    "                line = re.sub(r'\\\\multicolumn\\{(\\d+)\\}', lambda m: f'\\\\multicolumn{{{int(m.group(1)) + 1}}}', line)\n",
    "            \n",
    "            if r'\\cline{' in line:\n",
    "                line = re.sub(r'\\\\cline\\{(\\d+)-(\\d+)\\}', lambda m: fr'\\cline{{{m.group(1)}-{int(m.group(2))+1}}}', line)\n",
    "\n",
    "            # Add a new cell to data rows\n",
    "            if '&' in line and r'\\\\' in line:\n",
    "                parts = line.split('&')\n",
    "                parts.insert(-1, new_cell_value+str(default_number))\n",
    "                default_number += 1\n",
    "                line = ' & '.join(parts)\n",
    "\n",
    "        new_lines.append(line)\n",
    "\n",
    "    return '\\n'.join(new_lines)"
   ]
  },
  {
   "cell_type": "markdown",
   "id": "f69162d8",
   "metadata": {},
   "source": [
    "## Step 3: Apply to LaTeX Table Dataset\n",
    "\n",
    "We load a sample dataset containing LaTeX tables using Hugging Face Datasets.\n",
    "\n",
    "For demonstration, we:\n",
    "- Load the first few LaTeX entries.\n",
    "- Modify each one using `add_column_to_outermost_tabular`.\n",
    "- Print a side-by-side comparison of the original and modified tables."
   ]
  },
  {
   "cell_type": "code",
   "execution_count": null,
   "id": "c4b43b6e",
   "metadata": {},
   "outputs": [],
   "source": [
    "from datasets import load_dataset\n",
    "\n",
    "dataset = load_dataset(\"staghado/ArXiv-tables\", split=\"train\")\n",
    "\n",
    "# Check available keys in first entry\n",
    "print(dataset[0].keys())"
   ]
  },
  {
   "cell_type": "code",
   "execution_count": null,
   "id": "03659dae",
   "metadata": {},
   "outputs": [],
   "source": [
    "# Load dataset\n",
    "import re\n",
    "dataset = load_dataset(\"staghado/ArXiv-tables\", split=\"train\")\n",
    "\n",
    "# Process the first 3 entries\n",
    "for i in range(3):\n",
    "    original = dataset[i][\"latex_content\"]\n",
    "    modified =add_column_to_outermost_tabular(original)\n",
    "    #modified = replace_last_line_with_end_table(modified)\n",
    "\n",
    "    print(f\"\\n--- Table {i}: Original ---\\n\")\n",
    "    print(original[:800])\n",
    "    \n",
    "    print(f\"\\n--- Table {i}: Modified ---\\n\")\n",
    "    print(modified[:1000])"
   ]
  }
 ],
 "metadata": {
  "kernelspec": {
   "display_name": "nlp_env",
   "language": "python",
   "name": "python3"
  },
  "language_info": {
   "codemirror_mode": {
    "name": "ipython",
    "version": 3
   },
   "file_extension": ".py",
   "mimetype": "text/x-python",
   "name": "python",
   "nbconvert_exporter": "python",
   "pygments_lexer": "ipython3",
   "version": "3.12.2"
  }
 },
 "nbformat": 4,
 "nbformat_minor": 5
}
