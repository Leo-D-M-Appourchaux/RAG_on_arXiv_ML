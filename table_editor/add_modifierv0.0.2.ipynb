{
 "cells": [
  {
   "cell_type": "code",
   "execution_count": null,
   "id": "12e15be2",
   "metadata": {},
   "outputs": [],
   "source": [
    "from datasets import load_dataset\n",
    "from latex_to_image import save_latex_as_image\n",
    "from modify_latex import modify_numeric_values\n",
    "from IPython.display import Image, display\n",
    "import os, datetime\n",
    "\n",
    "# Load dataset\n",
    "dataset = load_dataset(\"staghado/ArXiv-tables\")[\"train\"]\n",
    "os.makedirs(\"outputs\", exist_ok=True)\n",
    "\n",
    "for i in range(len(dataset)):\n",
    "    latex = dataset[i][\"latex_content\"]\n",
    "    if \"\\\\begin{tabular}\" not in latex: \n",
    "        continue\n",
    "\n",
    "    timestamp = datetime.datetime.now().strftime(\"%Y%m%d_%H%M%S\")\n",
    "    name_base = f\"outputs/sample_{i}_{timestamp}\"\n",
    "\n",
    "    try:\n",
    "        # Render and display original image\n",
    "        save_latex_as_image(latex, outname=f\"{name_base}_original\")\n",
    "        display(Image(filename=f\"{name_base}_original.png\"))\n",
    "    except Exception as e:\n",
    "        print(f\"Table {i+1} failed to render. Skipping. Reason: {e}\")\n",
    "        continue\n",
    "\n",
    "    # Ask if the user wants to modify the table\n",
    "    should_modify = input(f\"Do you want to modify table {i+1}? (Y/N): \").strip().upper()\n",
    "    if should_modify != \"Y\":\n",
    "        continue\n",
    "\n",
    "    # Ask how many values to modify\n",
    "    try:\n",
    "        n_changes = int(input(\"How many values would you like to modify?: \").strip())\n",
    "    except ValueError:\n",
    "        print(\"Invalid number. Skipping this table.\")\n",
    "        continue\n",
    "\n",
    "    modified_latex = latex\n",
    "    for j in range(n_changes):\n",
    "        old_val = input(f\"Original value #{j+1}: \").strip()\n",
    "        new_val = input(f\"New value #{j+1}: \").strip()\n",
    "        modified_latex = modify_numeric_values(modified_latex, old_val, new_val)\n",
    "\n",
    "    try:\n",
    "        # 📷 Render and display modified image\n",
    "        save_latex_as_image(modified_latex, outname=f\"{name_base}_modified\")\n",
    "        display(Image(filename=f\"{name_base}_modified.png\"))\n",
    "        print(\"Modification complete. Image saved.\\n\")\n",
    "    except Exception as e:\n",
    "        print(f\"Failed to render modified table: {e}\")"
   ]
  }
 ],
 "metadata": {
  "kernelspec": {
   "display_name": "nlp_env",
   "language": "python",
   "name": "python3"
  },
  "language_info": {
   "codemirror_mode": {
    "name": "ipython",
    "version": 3
   },
   "file_extension": ".py",
   "mimetype": "text/x-python",
   "name": "python",
   "nbconvert_exporter": "python",
   "pygments_lexer": "ipython3",
   "version": "3.13.3"
  }
 },
 "nbformat": 4,
 "nbformat_minor": 5
}
